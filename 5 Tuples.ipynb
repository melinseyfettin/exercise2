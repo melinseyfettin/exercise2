{
 "cells": [
  {
   "cell_type": "markdown",
   "metadata": {},
   "source": [
    "# 5. Tuples"
   ]
  },
  {
   "cell_type": "markdown",
   "metadata": {},
   "source": [
    "## 5.1: Swapping two values"
   ]
  },
  {
   "cell_type": "code",
   "execution_count": 2,
   "metadata": {},
   "outputs": [
    {
     "name": "stdout",
     "output_type": "stream",
     "text": [
      "After Swapping values of x and y are 11 99\n"
     ]
    }
   ],
   "source": [
    "x = 99\n",
    "y = 11\n",
    "x, y = y, x\n",
    "print(\"After Swapping values of x and y are\", x, y)"
   ]
  },
  {
   "cell_type": "markdown",
   "metadata": {},
   "source": [
    "## 5.2: Zip"
   ]
  },
  {
   "cell_type": "code",
   "execution_count": 3,
   "metadata": {},
   "outputs": [
    {
     "name": "stdout",
     "output_type": "stream",
     "text": [
      "[(3, 4), (1, 7), (9, 6)]\n"
     ]
    }
   ],
   "source": [
    "firstlist = [3, 1, 9]\n",
    "secondlist = [4, 7, 6]\n",
    "combinedlist = list(zip(firstlist, secondlist))\n",
    "print(combinedlist)"
   ]
  },
  {
   "cell_type": "code",
   "execution_count": 4,
   "metadata": {},
   "outputs": [],
   "source": [
    "firstlist, secondlist = zip(*combinedlist)\n",
    "firstlist = list(firstlist)\n",
    "secondlist = list(secondlist)"
   ]
  },
  {
   "cell_type": "code",
   "execution_count": 5,
   "metadata": {},
   "outputs": [
    {
     "name": "stdout",
     "output_type": "stream",
     "text": [
      "[3, 1, 9]\n",
      "[4, 7, 6]\n"
     ]
    }
   ],
   "source": [
    "print(firstlist)\n",
    "\n",
    "print(secondlist)"
   ]
  },
  {
   "cell_type": "markdown",
   "metadata": {},
   "source": [
    "## 5.3: Distances"
   ]
  },
  {
   "cell_type": "code",
   "execution_count": 3,
   "metadata": {},
   "outputs": [
    {
     "name": "stdout",
     "output_type": "stream",
     "text": [
      "12.609520212918492\n",
      "27\n",
      "4.5\n"
     ]
    }
   ],
   "source": [
    "from scipy.spatial import distance\n",
    "\n",
    "# calculate hamming distance\n",
    "def hamming_distance(x, y):\n",
    "    return sum(abs(e1 - e2) for e1, e2 in zip(x, y)) / len(x)\n",
    " \n",
    "# define data\n",
    "x = [3, 5, 8, 0, 5, 1]\n",
    "y = [8, 1, 6, 7, 4, 9]\n",
    "\n",
    "# calculate distance\n",
    "dist1 = distance.euclidean(x, y)     \n",
    "dist2 = distance.cityblock(x, y)\n",
    "dist3 = hamming_distance(x, y)\n",
    "\n",
    "print(dist1)\n",
    "print(dist2)\n",
    "print(dist3)"
   ]
  },
  {
   "cell_type": "code",
   "execution_count": null,
   "metadata": {},
   "outputs": [],
   "source": []
  }
 ],
 "metadata": {
  "kernelspec": {
   "display_name": "Python 3",
   "language": "python",
   "name": "python3"
  },
  "language_info": {
   "codemirror_mode": {
    "name": "ipython",
    "version": 3
   },
   "file_extension": ".py",
   "mimetype": "text/x-python",
   "name": "python",
   "nbconvert_exporter": "python",
   "pygments_lexer": "ipython3",
   "version": "3.8.3"
  }
 },
 "nbformat": 4,
 "nbformat_minor": 2
}
